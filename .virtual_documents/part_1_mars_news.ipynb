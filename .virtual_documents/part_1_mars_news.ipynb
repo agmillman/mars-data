


# Import Splinter and BeautifulSoup
from splinter import Browser
from bs4 import BeautifulSoup


browser = Browser('chrome')





# Visit the Mars news site
url = 'https://static.bc-edx.com/data/web/mars_news/index.html'
browser.visit(url)






# Create a Beautiful Soup object
html = browser.html
soup = BeautifulSoup(html, 'html.parser')


# Extract all the text elements
text_elems = soup.find_all("div", class_="list_text")

text_elems





# Create an empty list to store the dictionaries
list = []



# Loop through the text elements
for text_elem in text_elems:
    # Extract the title and preview text from the elements
    title = text_elem.find('div',class_ = 'content_title').text
    preview = text_elem.find('div',class_ = 'article_teaser_body').text
    # Store each title and preview pair in a dictionary     
    tp_list = {
        'Title': title,
        'Preview': preview
    }
    # Add the dictionary to the list   
    list.append(tp_list)



# Print the list to confirm success
print(list)


browser.quit()



